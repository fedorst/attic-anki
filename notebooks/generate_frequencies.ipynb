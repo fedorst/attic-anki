{
 "cells": [
  {
   "cell_type": "code",
   "execution_count": 91,
   "metadata": {},
   "outputs": [],
   "source": [
    "import pandas as pd\n",
    "from tqdm import tqdm"
   ]
  },
  {
   "cell_type": "code",
   "execution_count": 92,
   "metadata": {},
   "outputs": [],
   "source": [
    "df_sents = pd.read_parquet(\"sentences.parquet\")"
   ]
  },
  {
   "cell_type": "code",
   "execution_count": 95,
   "metadata": {},
   "outputs": [
    {
     "name": "stderr",
     "output_type": "stream",
     "text": [
      "134645it [00:09, 13662.24it/s]\n"
     ]
    }
   ],
   "source": [
    "big_word_dict = {}\n",
    "for i, row in tqdm(df_sents.iterrows()):\n",
    "    words = row[\"sentence_obj\"]\n",
    "    for word in words:\n",
    "        key = f\"{word['string']}_{word['pos']}_{word['features']}_{word['category']}\"\n",
    "        if key not in big_word_dict:\n",
    "            big_word_dict[key] = {\n",
    "                \"text\": word[\"string\"],\n",
    "                \"count\": 1,\n",
    "                \"lemma\": word[\"lemma\"],\n",
    "                \"pos\": word[\"pos\"],\n",
    "                \"features\": word[\"features\"],\n",
    "                # \"category\": word[\"category\"]\n",
    "            }\n",
    "        else:\n",
    "            big_word_dict[key][\"count\"] += 1"
   ]
  },
  {
   "cell_type": "code",
   "execution_count": 96,
   "metadata": {},
   "outputs": [],
   "source": [
    "word_to_lemma_df = pd.DataFrame.from_dict(big_word_dict, orient=\"index\").sort_values(by=\"count\", ascending=False).reset_index()#.drop([\",\", \".\", \";\", \"·\"])\n",
    "word_to_lemma_df = pd.concat([word_to_lemma_df.drop(['features'], axis=1), word_to_lemma_df['features'].apply(pd.Series)], axis=1)\n",
    "word_to_lemma_df = word_to_lemma_df[word_to_lemma_df[\"count\"] > 1]\n",
    "# word_to_lemma_df = pd.concat([word_to_lemma_df.drop(['category'], axis=1), word_to_lemma_df['category'].apply(pd.Series)], axis=1)"
   ]
  },
  {
   "cell_type": "code",
   "execution_count": 101,
   "metadata": {},
   "outputs": [],
   "source": [
    "word_to_lemma_df = word_to_lemma_df[word_to_lemma_df.text.str.isalpha()]"
   ]
  },
  {
   "cell_type": "code",
   "execution_count": 103,
   "metadata": {},
   "outputs": [],
   "source": [
    "word_to_lemma_df.to_parquet(\"word_to_lemma.parquet\")"
   ]
  },
  {
   "cell_type": "code",
   "execution_count": null,
   "metadata": {},
   "outputs": [],
   "source": []
  }
 ],
 "metadata": {
  "kernelspec": {
   "display_name": ".venv",
   "language": "python",
   "name": "python3"
  },
  "language_info": {
   "codemirror_mode": {
    "name": "ipython",
    "version": 3
   },
   "file_extension": ".py",
   "mimetype": "text/x-python",
   "name": "python",
   "nbconvert_exporter": "python",
   "pygments_lexer": "ipython3",
   "version": "3.10.12"
  }
 },
 "nbformat": 4,
 "nbformat_minor": 2
}
