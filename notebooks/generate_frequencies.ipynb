{
 "cells": [
  {
   "cell_type": "code",
   "execution_count": 11,
   "metadata": {},
   "outputs": [],
   "source": [
    "import pandas as pd\n",
    "from tqdm import tqdm\n",
    "from utils import word_to_simple_identifier"
   ]
  },
  {
   "cell_type": "code",
   "execution_count": 12,
   "metadata": {},
   "outputs": [],
   "source": [
    "df_sents = pd.read_parquet(\"../data/sentences.parquet\")"
   ]
  },
  {
   "cell_type": "code",
   "execution_count": 13,
   "metadata": {},
   "outputs": [
    {
     "name": "stderr",
     "output_type": "stream",
     "text": [
      "127947it [00:06, 19249.88it/s]\n"
     ]
    }
   ],
   "source": [
    "big_word_dict = {}\n",
    "for i, row in tqdm(df_sents.iterrows()):\n",
    "    words = row[\"sentence_obj\"]\n",
    "    for word in words:\n",
    "        key = word_to_simple_identifier(word)\n",
    "        if key not in big_word_dict:\n",
    "            big_word_dict[key] = {\n",
    "                \"text\": word[\"string\"],\n",
    "                \"count\": 1,\n",
    "                \"lemma\": word[\"lemma\"],\n",
    "                \"pos\": word[\"pos\"],\n",
    "                \"features\": word[\"features\"],\n",
    "                # \"category\": word[\"category\"]\n",
    "            }\n",
    "        else:\n",
    "            big_word_dict[key][\"count\"] += 1"
   ]
  },
  {
   "cell_type": "code",
   "execution_count": 14,
   "metadata": {},
   "outputs": [],
   "source": [
    "word_to_lemma_df = pd.DataFrame.from_dict(big_word_dict, orient=\"index\").sort_values(by=\"count\", ascending=False).reset_index()#.drop([\",\", \".\", \";\", \"·\"])\n",
    "word_to_lemma_df = pd.concat([word_to_lemma_df.drop(['features'], axis=1), word_to_lemma_df['features'].apply(pd.Series)], axis=1)\n",
    "word_to_lemma_df = word_to_lemma_df[word_to_lemma_df[\"count\"] > 1]\n",
    "# word_to_lemma_df = pd.concat([word_to_lemma_df.drop(['category'], axis=1), word_to_lemma_df['category'].apply(pd.Series)], axis=1)"
   ]
  },
  {
   "cell_type": "code",
   "execution_count": 15,
   "metadata": {},
   "outputs": [],
   "source": [
    "word_to_lemma_df = word_to_lemma_df[word_to_lemma_df.text.str.isalpha()]"
   ]
  },
  {
   "cell_type": "code",
   "execution_count": 16,
   "metadata": {},
   "outputs": [],
   "source": [
    "word_to_lemma_df = word_to_lemma_df[word_to_lemma_df[\"text\"] != \"ΣΩ\"] # remove misclassified from socrates"
   ]
  },
  {
   "cell_type": "code",
   "execution_count": 17,
   "metadata": {},
   "outputs": [],
   "source": [
    "word_to_lemma_df.to_parquet(\"../data/word_to_lemma.parquet\")"
   ]
  }
 ],
 "metadata": {
  "kernelspec": {
   "display_name": ".venv",
   "language": "python",
   "name": "python3"
  },
  "language_info": {
   "codemirror_mode": {
    "name": "ipython",
    "version": 3
   },
   "file_extension": ".py",
   "mimetype": "text/x-python",
   "name": "python",
   "nbconvert_exporter": "python",
   "pygments_lexer": "ipython3",
   "version": "3.10.12"
  }
 },
 "nbformat": 4,
 "nbformat_minor": 2
}
