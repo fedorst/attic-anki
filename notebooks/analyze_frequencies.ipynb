{
 "cells": [
  {
   "cell_type": "code",
   "execution_count": 9,
   "metadata": {},
   "outputs": [],
   "source": [
    "import os\n",
    "import json\n",
    "#from cltk import NLP \n",
    "#from cltk.core.data_types import Word, Doc, Sentence\n",
    "# from collections import Counter\n",
    "from tqdm import tqdm\n",
    "# import pickle\n",
    "import pandas as pd"
   ]
  },
  {
   "cell_type": "code",
   "execution_count": 10,
   "metadata": {},
   "outputs": [],
   "source": [
    "df_sents = pd.read_parquet(\"sentences.parquet\")\n",
    "df_words = pd.read_parquet(\"word_to_lemma.parquet\")"
   ]
  },
  {
   "cell_type": "code",
   "execution_count": 35,
   "metadata": {},
   "outputs": [
    {
     "data": {
      "text/html": [
       "<div>\n",
       "<style scoped>\n",
       "    .dataframe tbody tr th:only-of-type {\n",
       "        vertical-align: middle;\n",
       "    }\n",
       "\n",
       "    .dataframe tbody tr th {\n",
       "        vertical-align: top;\n",
       "    }\n",
       "\n",
       "    .dataframe thead th {\n",
       "        text-align: right;\n",
       "    }\n",
       "</style>\n",
       "<table border=\"1\" class=\"dataframe\">\n",
       "  <thead>\n",
       "    <tr style=\"text-align: right;\">\n",
       "      <th></th>\n",
       "      <th>count</th>\n",
       "    </tr>\n",
       "    <tr>\n",
       "      <th>text</th>\n",
       "      <th></th>\n",
       "    </tr>\n",
       "  </thead>\n",
       "  <tbody>\n",
       "    <tr>\n",
       "      <th>καὶ</th>\n",
       "      <td>5.488011</td>\n",
       "    </tr>\n",
       "    <tr>\n",
       "      <th>δὲ</th>\n",
       "      <td>8.262735</td>\n",
       "    </tr>\n",
       "    <tr>\n",
       "      <th>τῶν</th>\n",
       "      <td>9.576984</td>\n",
       "    </tr>\n",
       "    <tr>\n",
       "      <th>μὲν</th>\n",
       "      <td>10.872359</td>\n",
       "    </tr>\n",
       "    <tr>\n",
       "      <th>τὴν</th>\n",
       "      <td>12.005995</td>\n",
       "    </tr>\n",
       "    <tr>\n",
       "      <th>...</th>\n",
       "      <td>...</td>\n",
       "    </tr>\n",
       "    <tr>\n",
       "      <th>σιγῶντα</th>\n",
       "      <td>99.999552</td>\n",
       "    </tr>\n",
       "    <tr>\n",
       "      <th>σιγαλόεντι</th>\n",
       "      <td>99.999664</td>\n",
       "    </tr>\n",
       "    <tr>\n",
       "      <th>σθω</th>\n",
       "      <td>99.999776</td>\n",
       "    </tr>\n",
       "    <tr>\n",
       "      <th>σθαι</th>\n",
       "      <td>99.999888</td>\n",
       "    </tr>\n",
       "    <tr>\n",
       "      <th>ῶν</th>\n",
       "      <td>100.000000</td>\n",
       "    </tr>\n",
       "  </tbody>\n",
       "</table>\n",
       "<p>69708 rows × 1 columns</p>\n",
       "</div>"
      ],
      "text/plain": [
       "                 count\n",
       "text                  \n",
       "καὶ           5.488011\n",
       "δὲ            8.262735\n",
       "τῶν           9.576984\n",
       "μὲν          10.872359\n",
       "τὴν          12.005995\n",
       "...                ...\n",
       "σιγῶντα      99.999552\n",
       "σιγαλόεντι   99.999664\n",
       "σθω          99.999776\n",
       "σθαι         99.999888\n",
       "ῶν          100.000000\n",
       "\n",
       "[69708 rows x 1 columns]"
      ]
     },
     "execution_count": 35,
     "metadata": {},
     "output_type": "execute_result"
    }
   ],
   "source": [
    "(100 * df_words.groupby(\"text\").sum(\"count\") / df_words.groupby(\"text\").sum(\"count\").sum()).sort_values(by=\"count\", ascending=False).cumsum()"
   ]
  },
  {
   "cell_type": "code",
   "execution_count": 32,
   "metadata": {},
   "outputs": [
    {
     "data": {
      "text/html": [
       "<div>\n",
       "<style scoped>\n",
       "    .dataframe tbody tr th:only-of-type {\n",
       "        vertical-align: middle;\n",
       "    }\n",
       "\n",
       "    .dataframe tbody tr th {\n",
       "        vertical-align: top;\n",
       "    }\n",
       "\n",
       "    .dataframe thead th {\n",
       "        text-align: right;\n",
       "    }\n",
       "</style>\n",
       "<table border=\"1\" class=\"dataframe\">\n",
       "  <thead>\n",
       "    <tr style=\"text-align: right;\">\n",
       "      <th></th>\n",
       "      <th>count</th>\n",
       "    </tr>\n",
       "    <tr>\n",
       "      <th>lemma</th>\n",
       "      <th></th>\n",
       "    </tr>\n",
       "  </thead>\n",
       "  <tbody>\n",
       "    <tr>\n",
       "      <th>ὁ</th>\n",
       "      <td>12.282375</td>\n",
       "    </tr>\n",
       "    <tr>\n",
       "      <th>καί</th>\n",
       "      <td>17.885027</td>\n",
       "    </tr>\n",
       "    <tr>\n",
       "      <th>δέ</th>\n",
       "      <td>20.898048</td>\n",
       "    </tr>\n",
       "    <tr>\n",
       "      <th>εἰμί</th>\n",
       "      <td>22.852872</td>\n",
       "    </tr>\n",
       "    <tr>\n",
       "      <th>αὐτός</th>\n",
       "      <td>24.640692</td>\n",
       "    </tr>\n",
       "    <tr>\n",
       "      <th>...</th>\n",
       "      <td>...</td>\n",
       "    </tr>\n",
       "    <tr>\n",
       "      <th>μέλον</th>\n",
       "      <td>99.999552</td>\n",
       "    </tr>\n",
       "    <tr>\n",
       "      <th>μέλομαι</th>\n",
       "      <td>99.999664</td>\n",
       "    </tr>\n",
       "    <tr>\n",
       "      <th>ἀποκρύψομαι</th>\n",
       "      <td>99.999776</td>\n",
       "    </tr>\n",
       "    <tr>\n",
       "      <th>μέλλῃς</th>\n",
       "      <td>99.999888</td>\n",
       "    </tr>\n",
       "    <tr>\n",
       "      <th>ῶν</th>\n",
       "      <td>100.000000</td>\n",
       "    </tr>\n",
       "  </tbody>\n",
       "</table>\n",
       "<p>39665 rows × 1 columns</p>\n",
       "</div>"
      ],
      "text/plain": [
       "                  count\n",
       "lemma                  \n",
       "ὁ             12.282375\n",
       "καί           17.885027\n",
       "δέ            20.898048\n",
       "εἰμί          22.852872\n",
       "αὐτός         24.640692\n",
       "...                 ...\n",
       "μέλον         99.999552\n",
       "μέλομαι       99.999664\n",
       "ἀποκρύψομαι   99.999776\n",
       "μέλλῃς        99.999888\n",
       "ῶν           100.000000\n",
       "\n",
       "[39665 rows x 1 columns]"
      ]
     },
     "execution_count": 32,
     "metadata": {},
     "output_type": "execute_result"
    }
   ],
   "source": [
    "(100 * df_words.groupby(\"lemma\").sum(\"count\") / df_words.groupby(\"lemma\").sum(\"count\").sum()).sort_values(by=\"count\", ascending=False).cumsum()"
   ]
  },
  {
   "cell_type": "code",
   "execution_count": 18,
   "metadata": {},
   "outputs": [
    {
     "data": {
      "text/plain": [
       "78.20577368848159"
      ]
     },
     "execution_count": 18,
     "metadata": {},
     "output_type": "execute_result"
    }
   ],
   "source": [
    "(100 * df_words[\"count\"] / df_words[\"count\"].sum())[:7000].sum()"
   ]
  },
  {
   "cell_type": "code",
   "execution_count": null,
   "metadata": {},
   "outputs": [],
   "source": [
    "(100 * lemma_series / lemma_series.sum())[:6_000].sum()"
   ]
  },
  {
   "cell_type": "code",
   "execution_count": null,
   "metadata": {},
   "outputs": [],
   "source": [
    "(100 * word_series / word_series.sum())[:6_000].sum()"
   ]
  }
 ],
 "metadata": {
  "kernelspec": {
   "display_name": ".venv",
   "language": "python",
   "name": "python3"
  },
  "language_info": {
   "codemirror_mode": {
    "name": "ipython",
    "version": 3
   },
   "file_extension": ".py",
   "mimetype": "text/x-python",
   "name": "python",
   "nbconvert_exporter": "python",
   "pygments_lexer": "ipython3",
   "version": "3.10.12"
  }
 },
 "nbformat": 4,
 "nbformat_minor": 2
}
