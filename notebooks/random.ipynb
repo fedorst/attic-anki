{
 "cells": [
  {
   "cell_type": "code",
   "execution_count": 2,
   "metadata": {},
   "outputs": [
    {
     "name": "stderr",
     "output_type": "stream",
     "text": [
      "/home/fstomakhin/Documents/nlpcourse/attic-anki/.venv/lib/python3.10/site-packages/tqdm/auto.py:21: TqdmWarning: IProgress not found. Please update jupyter and ipywidgets. See https://ipywidgets.readthedocs.io/en/stable/user_install.html\n",
      "  from .autonotebook import tqdm as notebook_tqdm\n"
     ]
    }
   ],
   "source": [
    "from cltk import NLP \n",
    "from cltk.core.data_types import Word\n",
    "from tqdm import tqdm"
   ]
  },
  {
   "cell_type": "code",
   "execution_count": 3,
   "metadata": {},
   "outputs": [
    {
     "name": "stdout",
     "output_type": "stream",
     "text": [
      "‎𐤀 CLTK version '1.3.0'. When using the CLTK in research, please cite: https://aclanthology.org/2021.acl-demo.3/\n",
      "\n",
      "Pipeline for language 'Ancient Greek' (ISO: 'grc'): `GreekNormalizeProcess`, `GreekSpacyProcess`, `GreekEmbeddingsProcess`, `StopsProcess`.\n",
      "\n",
      "⸖ ``GreekSpacyProcess`` using OdyCy model by Center for Humanities Computing Aarhus from https://huggingface.co/chcaa . Please cite: https://aclanthology.org/2023.latechclfl-1.14\n",
      "⸖ ``LatinEmbeddingsProcess`` using word2vec model by University of Oslo from http://vectors.nlpl.eu/ . Please cite: https://aclanthology.org/W17-0237/\n",
      "\n",
      "⸎ To suppress these messages, instantiate ``NLP()`` with ``suppress_banner=True``.\n"
     ]
    }
   ],
   "source": [
    "grc_nlp = NLP(language=\"grc\")"
   ]
  },
  {
   "cell_type": "code",
   "execution_count": 4,
   "metadata": {},
   "outputs": [],
   "source": [
    "hdt_1 = \"Ἡροδότου Ἁλικαρνησσέος ἱστορίης ἀπόδεξις ἥδε, ὡς μήτε τὰ γενόμενα ἐξ ἀνθρώπων τῷ χρόνῳ ἐξίτηλα γένηται, μήτε ἔργα μεγάλα τε καὶ θωμαστά, τὰ μὲν Ἕλλησι τὰ δὲ βαρβάροισι ἀποδεχθέντα, ἀκλεᾶ γένηται, τά τε ἄλλα καὶ δι’ ἣν αἰτίην ἐπολέμησαν ἀλλήλοισι.\"\n",
    "grc_doc = grc_nlp.analyze(text=hdt_1)"
   ]
  },
  {
   "cell_type": "code",
   "execution_count": 37,
   "metadata": {},
   "outputs": [],
   "source": [
    "relevant_vars = [\"string\", \"pos\", \"lemma\", \"upos\", \"features\", \"category\", \"index_token\", \"governor\"]\n",
    "def extract_features(w: Word):\n",
    "    feats = {k:v for k,v in vars(w).items() if k in relevant_vars}\n",
    "    feats[\"pos\"] = str(feats[\"pos\"])\n",
    "    feats[\"features\"] = {str(k):str(v).strip(\"[]\") for k,v in feats[\"features\"].items()}\n",
    "    feats[\"category\"] = {str(k):str(v).strip(\"[]\") for k,v in feats[\"category\"].items()}\n",
    "    return feats\n",
    "\n",
    "feats = extract_features(grc_doc.words[8])"
   ]
  },
  {
   "cell_type": "code",
   "execution_count": 38,
   "metadata": {},
   "outputs": [
    {
     "data": {
      "text/plain": [
       "{'index_token': 9,\n",
       " 'string': 'τὰ',\n",
       " 'pos': 'determiner',\n",
       " 'lemma': 'ὁ',\n",
       " 'upos': 'DET',\n",
       " 'governor': 10,\n",
       " 'features': {'Case': 'accusative', 'Gender': 'neuter', 'Number': 'plural'},\n",
       " 'category': {'F': 'pos', 'N': 'pos', 'V': 'neg'}}"
      ]
     },
     "execution_count": 38,
     "metadata": {},
     "output_type": "execute_result"
    }
   ],
   "source": [
    "feats"
   ]
  },
  {
   "cell_type": "code",
   "execution_count": 66,
   "metadata": {},
   "outputs": [
    {
     "name": "stdout",
     "output_type": "stream",
     "text": [
      "τὰ γενόμενα\n",
      "τῷ χρόνῳ\n",
      "τὰ γενόμενα\n",
      "τὰ ἐπολέμησαν\n"
     ]
    }
   ],
   "source": [
    "from time import sleep\n",
    "for w in grc_doc.words:\n",
    "    if w.upos == \"DET\":\n",
    "        #pass\n",
    "        print(f'{w.string} {grc_doc.words[w.governor-1].string}')\n",
    "    # print(extract_features(w)[\"governor\"])"
   ]
  },
  {
   "cell_type": "code",
   "execution_count": 43,
   "metadata": {},
   "outputs": [],
   "source": [
    "# if upos==\"DET\" then should be grouped together with its \"governor\""
   ]
  },
  {
   "cell_type": "code",
   "execution_count": 42,
   "metadata": {},
   "outputs": [
    {
     "data": {
      "text/plain": [
       "{'index_char_start': 78,\n",
       " 'index_char_stop': 80,\n",
       " 'index_token': 13,\n",
       " 'index_sentence': 0,\n",
       " 'string': 'τῷ',\n",
       " 'pos': determiner,\n",
       " 'lemma': 'ὁ',\n",
       " 'stem': None,\n",
       " 'scansion': None,\n",
       " 'xpos': 'l-s---md-',\n",
       " 'upos': 'DET',\n",
       " 'dependency_relation': 'det',\n",
       " 'governor': 14,\n",
       " 'features': {Case: [dative], Gender: [masculine], Number: [singular]},\n",
       " 'category': {F: [pos], N: [pos], V: [neg]},\n",
       " 'embedding': array([-2.94044e-01, -4.63806e-01, -1.84305e-01,  4.90500e-01,\n",
       "         1.52710e-02, -1.07571e-01, -2.24466e-01, -1.43852e-01,\n",
       "         2.17479e-01,  4.98096e-01, -2.98993e-01,  5.90880e-01,\n",
       "         7.24600e-03, -5.09269e-01, -3.71910e-02,  2.57472e-01,\n",
       "        -1.25341e-01,  4.38124e-01,  2.90840e-01,  8.51490e-02,\n",
       "        -1.15364e-01,  1.75454e-01,  7.97860e-02, -4.15082e-01,\n",
       "         1.09313e-01, -4.22467e-01, -2.02809e-01, -9.65276e-01,\n",
       "         3.00239e-01,  4.00060e-02,  4.05458e-01,  1.21115e-01,\n",
       "        -5.93084e-01,  1.20546e-01, -3.26560e-01,  1.18661e-01,\n",
       "         2.03852e-01,  2.70950e-02, -3.52100e-03, -3.66010e-02,\n",
       "        -5.92080e-01, -2.13076e-01,  6.02739e-01, -6.07704e-01,\n",
       "         3.54860e-01, -1.10951e-01, -3.44522e-01,  2.67893e-01,\n",
       "         7.99860e-02, -2.50050e-01,  3.89917e-01, -3.05610e-01,\n",
       "        -9.15107e-01, -8.65488e-01,  4.31233e-01, -9.15840e-02,\n",
       "         2.82000e-02,  8.39360e-02,  5.62000e-04,  1.04820e-02,\n",
       "         3.79410e-02, -4.82123e-01, -4.12339e-01, -2.41718e-01,\n",
       "        -6.41730e-02,  4.25880e-01,  6.20066e-01,  7.22730e-02,\n",
       "         6.56940e-01, -2.34879e-01, -1.85820e-01, -1.48600e-02,\n",
       "         1.70139e-01,  2.48053e-01, -4.77536e-01, -5.61460e-02,\n",
       "        -4.38916e-01, -3.85063e-01,  2.18337e-01, -4.34066e-01,\n",
       "         8.13740e-02,  2.54630e-01, -4.75738e-01,  2.93651e-01,\n",
       "         2.88684e-01,  7.02674e-01, -1.86563e-01,  2.26189e-01,\n",
       "         2.98023e-01, -1.31602e-01,  8.63280e-02,  5.61602e-01,\n",
       "        -3.54171e-01,  2.87220e-01,  3.92057e-01, -1.27243e-01,\n",
       "         4.85380e-02, -3.26322e-01, -1.74120e-02,  8.34389e-01],\n",
       "       dtype=float32),\n",
       " 'stop': True,\n",
       " 'named_entity': None,\n",
       " 'syllables': None,\n",
       " 'phonetic_transcription': None,\n",
       " 'definition': None}"
      ]
     },
     "execution_count": 42,
     "metadata": {},
     "output_type": "execute_result"
    }
   ],
   "source": [
    "vars(grc_doc.words[12])"
   ]
  },
  {
   "cell_type": "code",
   "execution_count": 52,
   "metadata": {},
   "outputs": [
    {
     "data": {
      "text/plain": [
       "[Word(index_char_start=0, index_char_stop=8, index_token=1, index_sentence=0, string='Ἡροδότου', pos=proper_noun, lemma='ἡρόδοτος', stem=None, scansion=None, xpos='Ne', upos='PROPN', dependency_relation='nmod', governor=2, features={Case: [genitive], Gender: [masculine], Number: [singular]}, category={F: [neg], N: [pos], V: [neg]}, stop=False, named_entity=None, syllables=None, phonetic_transcription=None, definition=None),\n",
       " Word(index_char_start=9, index_char_stop=22, index_token=2, index_sentence=0, string='Ἁλικαρνησσέος', pos=noun, lemma='ἁλικαρνασσεύς', stem=None, scansion=None, xpos='n-s---mg-', upos='NOUN', dependency_relation='nmod', governor=3, features={Case: [genitive], Gender: [masculine], Number: [singular]}, category={F: [neg], N: [pos], V: [neg]}, stop=False, named_entity=None, syllables=None, phonetic_transcription=None, definition=None),\n",
       " Word(index_char_start=23, index_char_stop=31, index_token=3, index_sentence=0, string='ἱστορίης', pos=noun, lemma='ἱστορία', stem=None, scansion=None, xpos='n-s---fg-', upos='NOUN', dependency_relation='obj', governor=4, features={Case: [genitive], Gender: [feminine], Number: [singular]}, category={F: [neg], N: [pos], V: [neg]}, stop=False, named_entity=None, syllables=None, phonetic_transcription=None, definition=None),\n",
       " Word(index_char_start=32, index_char_stop=40, index_token=4, index_sentence=0, string='ἀπόδεξις', pos=noun, lemma='ἀπόδειξις', stem=None, scansion=None, xpos='n-s---fn-', upos='NOUN', dependency_relation='ROOT', governor=4, features={Case: [nominative], Gender: [feminine], Number: [singular]}, category={F: [neg], N: [pos], V: [neg]}, stop=False, named_entity=None, syllables=None, phonetic_transcription=None, definition=None),\n",
       " Word(index_char_start=41, index_char_stop=44, index_token=5, index_sentence=0, string='ἥδε', pos=adjective, lemma='ὅδε', stem=None, scansion=None, xpos='a-s---fn-', upos='ADJ', dependency_relation='nmod', governor=4, features={Case: [nominative], Gender: [feminine], Number: [singular]}, category={F: [neg], N: [pos], V: [pos]}, stop=True, named_entity=None, syllables=None, phonetic_transcription=None, definition=None),\n",
       " Word(index_char_start=44, index_char_stop=45, index_token=6, index_sentence=0, string=',', pos=punctuation, lemma=',', stem=None, scansion=None, xpos='u--------', upos='PUNCT', dependency_relation='punct', governor=7, features={}, category={}, stop=False, named_entity=None, syllables=None, phonetic_transcription=None, definition=None),\n",
       " Word(index_char_start=46, index_char_stop=48, index_token=7, index_sentence=0, string='ὡς', pos=subordinating_conjunction, lemma='ὡς', stem=None, scansion=None, xpos='c--------', upos='SCONJ', dependency_relation='mark', governor=16, features={}, category={F: [pos]}, stop=True, named_entity=None, syllables=None, phonetic_transcription=None, definition=None),\n",
       " Word(index_char_start=49, index_char_stop=53, index_token=8, index_sentence=0, string='μήτε', pos=adverb, lemma='μήτε', stem=None, scansion=None, xpos='d--------', upos='ADV', dependency_relation='advmod', governor=16, features={}, category={F: [neg], N: [pos], V: [pos]}, stop=False, named_entity=None, syllables=None, phonetic_transcription=None, definition=None),\n",
       " Word(index_char_start=54, index_char_stop=56, index_token=9, index_sentence=0, string='τὰ', pos=determiner, lemma='ὁ', stem=None, scansion=None, xpos='l-p---na-', upos='DET', dependency_relation='det', governor=10, features={Case: [accusative], Gender: [neuter], Number: [plural]}, category={F: [pos], N: [pos], V: [neg]}, stop=True, named_entity=None, syllables=None, phonetic_transcription=None, definition=None),\n",
       " Word(index_char_start=57, index_char_stop=65, index_token=10, index_sentence=0, string='γενόμενα', pos=verb, lemma='γίγνομαι', stem=None, scansion=None, xpos='V-', upos='VERB', dependency_relation='nsubj', governor=16, features={Aspect: [perfective], Case: [nominative], Gender: [neuter], Number: [plural], Tense: [past], VerbForm: [participle], Voice: [middle]}, category={F: [neg], N: [neg], V: [pos]}, stop=False, named_entity=None, syllables=None, phonetic_transcription=None, definition=None),\n",
       " Word(index_char_start=66, index_char_stop=68, index_token=11, index_sentence=0, string='ἐξ', pos=adposition, lemma='ἐκ', stem=None, scansion=None, xpos='R-', upos='ADP', dependency_relation='case', governor=12, features={}, category={F: [pos], N: [neg], V: [neg]}, stop=True, named_entity=None, syllables=None, phonetic_transcription=None, definition=None),\n",
       " Word(index_char_start=69, index_char_stop=77, index_token=12, index_sentence=0, string='ἀνθρώπων', pos=noun, lemma='ἄνθρωπος', stem=None, scansion=None, xpos='Nb', upos='NOUN', dependency_relation='obl:agent', governor=10, features={Case: [genitive], Gender: [masculine], Number: [plural]}, category={F: [neg], N: [pos], V: [neg]}, stop=False, named_entity=None, syllables=None, phonetic_transcription=None, definition=None),\n",
       " Word(index_char_start=78, index_char_stop=80, index_token=13, index_sentence=0, string='τῷ', pos=determiner, lemma='ὁ', stem=None, scansion=None, xpos='l-s---md-', upos='DET', dependency_relation='det', governor=14, features={Case: [dative], Gender: [masculine], Number: [singular]}, category={F: [pos], N: [pos], V: [neg]}, stop=True, named_entity=None, syllables=None, phonetic_transcription=None, definition=None),\n",
       " Word(index_char_start=81, index_char_stop=86, index_token=14, index_sentence=0, string='χρόνῳ', pos=noun, lemma='χρόνος', stem=None, scansion=None, xpos='n-s---md-', upos='NOUN', dependency_relation='obl', governor=16, features={Case: [dative], Gender: [masculine], Number: [singular]}, category={F: [neg], N: [pos], V: [neg]}, stop=False, named_entity=None, syllables=None, phonetic_transcription=None, definition=None),\n",
       " Word(index_char_start=87, index_char_stop=94, index_token=15, index_sentence=0, string='ἐξίτηλα', pos=adjective, lemma='ἐξίτηλος', stem=None, scansion=None, xpos='a-p---nn-', upos='ADJ', dependency_relation='xcomp', governor=16, features={Case: [nominative], Gender: [neuter], Number: [plural]}, category={F: [neg], N: [pos], V: [pos]}, stop=False, named_entity=None, syllables=None, phonetic_transcription=None, definition=None),\n",
       " Word(index_char_start=95, index_char_stop=102, index_token=16, index_sentence=0, string='γένηται', pos=verb, lemma='γίγνομαι', stem=None, scansion=None, xpos='v3sasm---', upos='VERB', dependency_relation='advcl', governor=4, features={Mood: [subjunctive], Number: [singular], Person: [third], Tense: [past], VerbForm: [finite], Voice: [middle]}, category={F: [neg], N: [neg], V: [pos]}, stop=False, named_entity=None, syllables=None, phonetic_transcription=None, definition=None),\n",
       " Word(index_char_start=102, index_char_stop=103, index_token=17, index_sentence=0, string=',', pos=punctuation, lemma=',', stem=None, scansion=None, xpos='u--------', upos='PUNCT', dependency_relation='punct', governor=18, features={}, category={}, stop=False, named_entity=None, syllables=None, phonetic_transcription=None, definition=None),\n",
       " Word(index_char_start=104, index_char_stop=108, index_token=18, index_sentence=0, string='μήτε', pos=coordinating_conjunction, lemma='μήτε', stem=None, scansion=None, xpos='c--------', upos='CCONJ', dependency_relation='cc', governor=16, features={}, category={F: [pos]}, stop=False, named_entity=None, syllables=None, phonetic_transcription=None, definition=None),\n",
       " Word(index_char_start=109, index_char_stop=113, index_token=19, index_sentence=0, string='ἔργα', pos=noun, lemma='ἔργον', stem=None, scansion=None, xpos='n-p---na-', upos='NOUN', dependency_relation='conj', governor=16, features={Case: [accusative], Gender: [neuter], Number: [plural]}, category={F: [neg], N: [pos], V: [neg]}, stop=False, named_entity=None, syllables=None, phonetic_transcription=None, definition=None),\n",
       " Word(index_char_start=114, index_char_stop=120, index_token=20, index_sentence=0, string='μεγάλα', pos=adjective, lemma='μέγας', stem=None, scansion=None, xpos='a-p---na-', upos='ADJ', dependency_relation='amod', governor=19, features={Case: [nominative], Gender: [neuter], Number: [plural]}, category={F: [neg], N: [pos], V: [pos]}, stop=False, named_entity=None, syllables=None, phonetic_transcription=None, definition=None),\n",
       " Word(index_char_start=121, index_char_stop=123, index_token=21, index_sentence=0, string='τε', pos=particle, lemma='τε', stem=None, scansion=None, xpos='g--------', upos='PART', dependency_relation='advmod', governor=20, features={}, category={F: [pos]}, stop=True, named_entity=None, syllables=None, phonetic_transcription=None, definition=None),\n",
       " Word(index_char_start=124, index_char_stop=127, index_token=22, index_sentence=0, string='καὶ', pos=coordinating_conjunction, lemma='καί', stem=None, scansion=None, xpos='c--------', upos='CCONJ', dependency_relation='cc', governor=19, features={}, category={F: [pos]}, stop=True, named_entity=None, syllables=None, phonetic_transcription=None, definition=None),\n",
       " Word(index_char_start=128, index_char_stop=135, index_token=23, index_sentence=0, string='θωμαστά', pos=adjective, lemma='θαυμαστός', stem=None, scansion=None, xpos='a-p---na-', upos='ADJ', dependency_relation='conj', governor=19, features={Case: [accusative], Gender: [neuter], Number: [plural]}, category={F: [neg], N: [pos], V: [pos]}, stop=False, named_entity=None, syllables=None, phonetic_transcription=None, definition=None),\n",
       " Word(index_char_start=135, index_char_stop=136, index_token=24, index_sentence=0, string=',', pos=punctuation, lemma=',', stem=None, scansion=None, xpos='u--------', upos='PUNCT', dependency_relation='punct', governor=16, features={}, category={}, stop=False, named_entity=None, syllables=None, phonetic_transcription=None, definition=None),\n",
       " Word(index_char_start=137, index_char_stop=139, index_token=25, index_sentence=0, string='τὰ', pos=determiner, lemma='ὁ', stem=None, scansion=None, xpos='l-p---na-', upos='DET', dependency_relation='det', governor=10, features={Case: [nominative], Gender: [neuter], Number: [plural]}, category={F: [pos], N: [pos], V: [neg]}, stop=True, named_entity=None, syllables=None, phonetic_transcription=None, definition=None),\n",
       " Word(index_char_start=140, index_char_stop=143, index_token=26, index_sentence=0, string='μὲν', pos=adverb, lemma='μέν', stem=None, scansion=None, xpos='d--------', upos='ADV', dependency_relation='dep', governor=4, features={}, category={F: [neg], N: [pos], V: [pos]}, stop=True, named_entity=None, syllables=None, phonetic_transcription=None, definition=None),\n",
       " Word(index_char_start=144, index_char_stop=150, index_token=27, index_sentence=0, string='Ἕλλησι', pos=noun, lemma='ἕλλην', stem=None, scansion=None, xpos='n-p---md-', upos='NOUN', dependency_relation='dep', governor=4, features={Case: [dative], Gender: [masculine], Number: [plural]}, category={F: [neg], N: [pos], V: [neg]}, stop=False, named_entity=None, syllables=None, phonetic_transcription=None, definition=None),\n",
       " Word(index_char_start=151, index_char_stop=153, index_token=28, index_sentence=0, string='τὰ', pos=determiner, lemma='ὁ', stem=None, scansion=None, xpos='l-p---na-', upos='DET', dependency_relation='det', governor=43, features={Case: [accusative], Gender: [neuter], Number: [plural]}, category={F: [pos], N: [pos], V: [neg]}, stop=True, named_entity=None, syllables=None, phonetic_transcription=None, definition=None),\n",
       " Word(index_char_start=154, index_char_stop=156, index_token=29, index_sentence=0, string='δὲ', pos=adverb, lemma='δέ', stem=None, scansion=None, xpos='d--------', upos='ADV', dependency_relation='cc', governor=5, features={}, category={F: [neg], N: [pos], V: [pos]}, stop=True, named_entity=None, syllables=None, phonetic_transcription=None, definition=None),\n",
       " Word(index_char_start=157, index_char_stop=167, index_token=30, index_sentence=0, string='βαρβάροισι', pos=noun, lemma='βάρβαρος', stem=None, scansion=None, xpos='n-p---md-', upos='NOUN', dependency_relation='obj', governor=31, features={Case: [dative], Gender: [masculine], Number: [plural]}, category={F: [neg], N: [pos], V: [neg]}, stop=False, named_entity=None, syllables=None, phonetic_transcription=None, definition=None),\n",
       " Word(index_char_start=168, index_char_stop=179, index_token=31, index_sentence=0, string='ἀποδεχθέντα', pos=verb, lemma='ἀποδείκνυμι', stem=None, scansion=None, xpos='v-pppann-', upos='VERB', dependency_relation='dep', governor=4, features={Case: [accusative], Gender: [masculine], Number: [singular], Tense: [past], VerbForm: [participle], Voice: [active]}, category={F: [neg], N: [neg], V: [pos]}, stop=False, named_entity=None, syllables=None, phonetic_transcription=None, definition=None),\n",
       " Word(index_char_start=179, index_char_stop=180, index_token=32, index_sentence=0, string=',', pos=punctuation, lemma=',', stem=None, scansion=None, xpos='u--------', upos='PUNCT', dependency_relation='punct', governor=34, features={}, category={}, stop=False, named_entity=None, syllables=None, phonetic_transcription=None, definition=None),\n",
       " Word(index_char_start=181, index_char_stop=186, index_token=33, index_sentence=0, string='ἀκλεᾶ', pos=adjective, lemma='ἀκλεής', stem=None, scansion=None, xpos='a-p---nn-', upos='ADJ', dependency_relation='xcomp', governor=34, features={Case: [nominative], Gender: [neuter], Number: [plural]}, category={F: [neg], N: [pos], V: [pos]}, stop=False, named_entity=None, syllables=None, phonetic_transcription=None, definition=None),\n",
       " Word(index_char_start=187, index_char_stop=194, index_token=34, index_sentence=0, string='γένηται', pos=verb, lemma='γίγνομαι', stem=None, scansion=None, xpos='v3sasm---', upos='VERB', dependency_relation='dep', governor=4, features={Mood: [subjunctive], Number: [singular], Person: [third], Tense: [past], VerbForm: [finite], Voice: [middle]}, category={F: [neg], N: [neg], V: [pos]}, stop=False, named_entity=None, syllables=None, phonetic_transcription=None, definition=None),\n",
       " Word(index_char_start=194, index_char_stop=195, index_token=35, index_sentence=0, string=',', pos=punctuation, lemma=',', stem=None, scansion=None, xpos='u--------', upos='PUNCT', dependency_relation='punct', governor=38, features={}, category={}, stop=False, named_entity=None, syllables=None, phonetic_transcription=None, definition=None),\n",
       " Word(index_char_start=196, index_char_stop=198, index_token=36, index_sentence=0, string='τά', pos=pronoun, lemma='ὁ', stem=None, scansion=None, xpos='l-p---na-', upos='PRON', dependency_relation='det', governor=38, features={Case: [nominative], Gender: [neuter], Number: [plural]}, category={F: [pos], N: [pos], V: [neg]}, stop=True, named_entity=None, syllables=None, phonetic_transcription=None, definition=None),\n",
       " Word(index_char_start=199, index_char_stop=201, index_token=37, index_sentence=0, string='τε', pos=adverb, lemma='τε', stem=None, scansion=None, xpos='d--------', upos='ADV', dependency_relation='advmod', governor=38, features={}, category={F: [neg], N: [pos], V: [pos]}, stop=True, named_entity=None, syllables=None, phonetic_transcription=None, definition=None),\n",
       " Word(index_char_start=202, index_char_stop=206, index_token=38, index_sentence=0, string='ἄλλα', pos=pronoun, lemma='ἄλλος', stem=None, scansion=None, xpos='p-p---na-', upos='PRON', dependency_relation='dep', governor=4, features={Case: [accusative], Gender: [neuter], Number: [plural]}, category={F: [pos], N: [pos], V: [neg]}, stop=True, named_entity=None, syllables=None, phonetic_transcription=None, definition=None),\n",
       " Word(index_char_start=207, index_char_stop=210, index_token=39, index_sentence=0, string='καὶ', pos=coordinating_conjunction, lemma='καί', stem=None, scansion=None, xpos='c--------', upos='CCONJ', dependency_relation='cc', governor=4, features={}, category={F: [pos]}, stop=True, named_entity=None, syllables=None, phonetic_transcription=None, definition=None),\n",
       " Word(index_char_start=211, index_char_stop=213, index_token=40, index_sentence=0, string='δι', pos=adverb, lemma='δι', stem=None, scansion=None, xpos='Pp', upos='ADV', dependency_relation='nsubj', governor=43, features={}, category={F: [neg], N: [pos], V: [pos]}, stop=False, named_entity=None, syllables=None, phonetic_transcription=None, definition=None),\n",
       " Word(index_char_start=214, index_char_stop=216, index_token=41, index_sentence=0, string='ἣν', pos=adjective, lemma='ἑός', stem=None, scansion=None, xpos='a-s---fa-', upos='ADJ', dependency_relation='det', governor=42, features={Case: [accusative], Gender: [feminine], Number: [singular]}, category={F: [neg], N: [pos], V: [pos]}, stop=False, named_entity=None, syllables=None, phonetic_transcription=None, definition=None),\n",
       " Word(index_char_start=217, index_char_stop=223, index_token=42, index_sentence=0, string='αἰτίην', pos=noun, lemma='αἰτία', stem=None, scansion=None, xpos='n-s---fa-', upos='NOUN', dependency_relation='obj', governor=43, features={Case: [accusative], Gender: [feminine], Number: [singular]}, category={F: [neg], N: [pos], V: [neg]}, stop=False, named_entity=None, syllables=None, phonetic_transcription=None, definition=None),\n",
       " Word(index_char_start=224, index_char_stop=234, index_token=43, index_sentence=0, string='ἐπολέμησαν', pos=verb, lemma='πολεμέω', stem=None, scansion=None, xpos='v3paia---', upos='VERB', dependency_relation='conj', governor=4, features={Mood: [indicative], Number: [plural], Person: [third], Tense: [past], VerbForm: [finite], Voice: [active]}, category={F: [neg], N: [neg], V: [pos]}, stop=False, named_entity=None, syllables=None, phonetic_transcription=None, definition=None),\n",
       " Word(index_char_start=235, index_char_stop=244, index_token=44, index_sentence=0, string='ἀλλήλοισι', pos=adjective, lemma='ἀλλήλων', stem=None, scansion=None, xpos='a-p---md-', upos='ADJ', dependency_relation='obj', governor=43, features={Case: [dative], Gender: [masculine], Number: [plural]}, category={F: [neg], N: [pos], V: [pos]}, stop=False, named_entity=None, syllables=None, phonetic_transcription=None, definition=None),\n",
       " Word(index_char_start=244, index_char_stop=245, index_token=45, index_sentence=0, string='.', pos=punctuation, lemma='.', stem=None, scansion=None, xpos='u--------', upos='PUNCT', dependency_relation='punct', governor=4, features={}, category={}, stop=False, named_entity=None, syllables=None, phonetic_transcription=None, definition=None)]"
      ]
     },
     "execution_count": 52,
     "metadata": {},
     "output_type": "execute_result"
    }
   ],
   "source": [
    "grc_doc.words"
   ]
  },
  {
   "cell_type": "code",
   "execution_count": null,
   "metadata": {},
   "outputs": [],
   "source": []
  }
 ],
 "metadata": {
  "kernelspec": {
   "display_name": ".venv",
   "language": "python",
   "name": "python3"
  },
  "language_info": {
   "codemirror_mode": {
    "name": "ipython",
    "version": 3
   },
   "file_extension": ".py",
   "mimetype": "text/x-python",
   "name": "python",
   "nbconvert_exporter": "python",
   "pygments_lexer": "ipython3",
   "version": "3.10.12"
  }
 },
 "nbformat": 4,
 "nbformat_minor": 2
}
